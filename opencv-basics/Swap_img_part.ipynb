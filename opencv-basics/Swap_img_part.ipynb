{
 "cells": [
  {
   "cell_type": "code",
   "execution_count": 9,
   "id": "e15d3034",
   "metadata": {},
   "outputs": [],
   "source": [
    "# Import opencv\n",
    "import cv2"
   ]
  },
  {
   "cell_type": "code",
   "execution_count": 10,
   "id": "ae3264d1",
   "metadata": {},
   "outputs": [],
   "source": [
    "# import the krish photo \n",
    "krish = cv2.imread(\"krish.jfif\")"
   ]
  },
  {
   "cell_type": "code",
   "execution_count": 11,
   "id": "e4abba81",
   "metadata": {},
   "outputs": [
    {
     "data": {
      "text/plain": [
       "(168, 300, 3)"
      ]
     },
     "execution_count": 11,
     "metadata": {},
     "output_type": "execute_result"
    }
   ],
   "source": [
    "krish.shape"
   ]
  },
  {
   "cell_type": "code",
   "execution_count": 12,
   "id": "6679eb8d",
   "metadata": {},
   "outputs": [],
   "source": [
    "jaadu = cv2.imread(\"jaadu.jfif\")"
   ]
  },
  {
   "cell_type": "code",
   "execution_count": 13,
   "id": "b0ef386f",
   "metadata": {},
   "outputs": [
    {
     "data": {
      "text/plain": [
       "(189, 267, 3)"
      ]
     },
     "execution_count": 13,
     "metadata": {},
     "output_type": "execute_result"
    }
   ],
   "source": [
    "jaadu.shape"
   ]
  },
  {
   "cell_type": "code",
   "execution_count": 14,
   "id": "11a0bfa9",
   "metadata": {},
   "outputs": [],
   "source": [
    "# to open photo \n",
    "cv2.imshow(\"krish\",krish)\n",
    "cv2.imshow(\"jaadu\",jaadu)\n",
    "cv2.waitKey()\n",
    "cv2.destroyAllWindows()"
   ]
  },
  {
   "cell_type": "code",
   "execution_count": 15,
   "id": "28665904",
   "metadata": {},
   "outputs": [],
   "source": [
    "# CROP & SWAP\n",
    "crop_krish = krish[0:100,100:180]\n",
    "jaadu[0:100,100:180] = crop_krish\n",
    "cv2.imshow(\"swapimg\",jaadu)\n",
    "cv2.waitKey()\n",
    "cv2.destroyAllWindows()"
   ]
  },
  {
   "cell_type": "code",
   "execution_count": 16,
   "id": "d2ba0fa2",
   "metadata": {},
   "outputs": [],
   "source": [
    "# CROP & SWAP\n",
    "jaadu = cv2.imread(\"jaadu.jfif\")\n",
    "crop_jaadu = jaadu[0:100,100:180]\n",
    "krish[0:100,100:180]=crop_jaadu\n",
    "cv2.imshow(\"swapimg\",krish)\n",
    "\n",
    "cv2.waitKey()\n",
    "cv2.destroyAllWindows()"
   ]
  },
  {
   "cell_type": "code",
   "execution_count": null,
   "id": "16d38323",
   "metadata": {},
   "outputs": [],
   "source": []
  }
 ],
 "metadata": {
  "kernelspec": {
   "display_name": "Python 3",
   "language": "python",
   "name": "python3"
  },
  "language_info": {
   "codemirror_mode": {
    "name": "ipython",
    "version": 3
   },
   "file_extension": ".py",
   "mimetype": "text/x-python",
   "name": "python",
   "nbconvert_exporter": "python",
   "pygments_lexer": "ipython3",
   "version": "3.8.8"
  }
 },
 "nbformat": 4,
 "nbformat_minor": 5
}
