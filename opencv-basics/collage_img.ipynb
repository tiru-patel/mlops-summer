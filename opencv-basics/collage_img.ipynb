{
 "cells": [
  {
   "cell_type": "code",
   "execution_count": 20,
   "id": "c413abca",
   "metadata": {},
   "outputs": [],
   "source": [
    "#import opencv\n",
    "import cv2"
   ]
  },
  {
   "cell_type": "code",
   "execution_count": 21,
   "id": "d7a525dd",
   "metadata": {},
   "outputs": [],
   "source": [
    "krish=cv2.imread(\"krish.jfif\")"
   ]
  },
  {
   "cell_type": "code",
   "execution_count": 22,
   "id": "b298da6d",
   "metadata": {},
   "outputs": [],
   "source": [
    "jaadu=cv2.imread(\"jaadu.jfif\")"
   ]
  },
  {
   "cell_type": "code",
   "execution_count": 23,
   "id": "533fa7eb",
   "metadata": {},
   "outputs": [
    {
     "data": {
      "text/plain": [
       "(168, 300, 3)"
      ]
     },
     "execution_count": 23,
     "metadata": {},
     "output_type": "execute_result"
    }
   ],
   "source": [
    "krish.shape"
   ]
  },
  {
   "cell_type": "code",
   "execution_count": 24,
   "id": "c88b6067",
   "metadata": {},
   "outputs": [
    {
     "data": {
      "text/plain": [
       "(189, 267, 3)"
      ]
     },
     "execution_count": 24,
     "metadata": {},
     "output_type": "execute_result"
    }
   ],
   "source": [
    "jaadu.shape"
   ]
  },
  {
   "cell_type": "code",
   "execution_count": 25,
   "id": "2060fab9",
   "metadata": {},
   "outputs": [],
   "source": [
    "# We need to make same length to add HORIZONTALLY \n",
    "jaadu = jaadu[0:168,:]"
   ]
  },
  {
   "cell_type": "code",
   "execution_count": 26,
   "id": "cdc8d76f",
   "metadata": {},
   "outputs": [
    {
     "data": {
      "text/plain": [
       "(168, 267, 3)"
      ]
     },
     "execution_count": 26,
     "metadata": {},
     "output_type": "execute_result"
    }
   ],
   "source": [
    "jaadu.shape"
   ]
  },
  {
   "cell_type": "code",
   "execution_count": 27,
   "id": "c81dafa5",
   "metadata": {},
   "outputs": [],
   "source": [
    "# Now, we can append HORIZONTALLY \n",
    "import numpy as np \n",
    "krish_jaadu_hori = np.hstack((krish,jaadu))"
   ]
  },
  {
   "cell_type": "code",
   "execution_count": 28,
   "id": "2e774d19",
   "metadata": {},
   "outputs": [],
   "source": [
    "# Printing image \n",
    "cv2.imshow(\"HORIZONTAL-COLLAGE\",krish_jaadu_hori)\n",
    "cv2.waitKey()\n",
    "cv2.destroyAllWindows()"
   ]
  },
  {
   "cell_type": "code",
   "execution_count": 29,
   "id": "b7a8408f",
   "metadata": {},
   "outputs": [],
   "source": [
    "# Now, appending VERTICALLY so width should be same. \n",
    "krish=cv2.imread(\"krish.jfif\")\n",
    "jaadu=cv2.imread(\"jaadu.jfif\")\n",
    "krish = krish[:,:267]\n",
    "# Now, we can append VERTICALLY \n",
    "import numpy as np \n",
    "krish_jaadu_ver = np.vstack((krish,jaadu))\n"
   ]
  },
  {
   "cell_type": "code",
   "execution_count": 30,
   "id": "f45f8d5a",
   "metadata": {},
   "outputs": [],
   "source": [
    "# Printing image \n",
    "cv2.imshow(\"VERTICAL-COLLAGE\",krish_jaadu_ver)\n",
    "cv2.waitKey()\n",
    "cv2.destroyAllWindows()"
   ]
  },
  {
   "cell_type": "code",
   "execution_count": null,
   "id": "09ec4feb",
   "metadata": {},
   "outputs": [],
   "source": []
  }
 ],
 "metadata": {
  "kernelspec": {
   "display_name": "Python 3",
   "language": "python",
   "name": "python3"
  },
  "language_info": {
   "codemirror_mode": {
    "name": "ipython",
    "version": 3
   },
   "file_extension": ".py",
   "mimetype": "text/x-python",
   "name": "python",
   "nbconvert_exporter": "python",
   "pygments_lexer": "ipython3",
   "version": "3.8.8"
  }
 },
 "nbformat": 4,
 "nbformat_minor": 5
}
