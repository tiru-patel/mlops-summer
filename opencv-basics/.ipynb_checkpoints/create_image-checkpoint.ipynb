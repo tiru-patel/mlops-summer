{
 "cells": [
  {
   "cell_type": "code",
   "execution_count": 55,
   "id": "675f9386",
   "metadata": {},
   "outputs": [],
   "source": [
    "import numpy as np"
   ]
  },
  {
   "cell_type": "code",
   "execution_count": 56,
   "id": "6f06682d",
   "metadata": {},
   "outputs": [],
   "source": [
    "photo = np.zeros((500,500,3))"
   ]
  },
  {
   "cell_type": "code",
   "execution_count": 57,
   "id": "bde9c49f",
   "metadata": {},
   "outputs": [
    {
     "data": {
      "text/plain": [
       "(500, 500, 3)"
      ]
     },
     "execution_count": 57,
     "metadata": {},
     "output_type": "execute_result"
    }
   ],
   "source": [
    "photo.shape"
   ]
  },
  {
   "cell_type": "code",
   "execution_count": 58,
   "id": "30bde006",
   "metadata": {},
   "outputs": [],
   "source": [
    "# Head\n",
    "photo[50:150,200:300]=[0,255,0]\n",
    "#Neck\n",
    "photo[150:170,240:260] = [0,0,255]\n",
    "#Body\n",
    "photo[170:300,150:350] = [255,0,0]\n",
    "#Left Leg \n",
    "photo[300:450,195:205] = [0,255,0]\n",
    "#Right Leg \n",
    "photo[300:450,295:305] = [0,255,0]\n",
    "# Left Hand \n",
    "photo[170:180,50:150] = [0,0,255]\n",
    "photo[170:250,50:60] = [0,0,255]\n",
    "#Right Hand\n",
    "photo[170:180,350:450] = [0,0,255]\n",
    "photo[90:170,440:450] = [0,0,255]"
   ]
  },
  {
   "cell_type": "code",
   "execution_count": 59,
   "id": "c7f59bcb",
   "metadata": {},
   "outputs": [],
   "source": [
    "import cv2"
   ]
  },
  {
   "cell_type": "code",
   "execution_count": 60,
   "id": "b8597c5c",
   "metadata": {},
   "outputs": [],
   "source": [
    "cv2.imshow(\"photo\",photo)\n",
    "cv2.waitKey()\n",
    "cv2.destroyAllWindows()"
   ]
  },
  {
   "cell_type": "code",
   "execution_count": null,
   "id": "0d5e29bc",
   "metadata": {},
   "outputs": [],
   "source": []
  }
 ],
 "metadata": {
  "kernelspec": {
   "display_name": "Python 3",
   "language": "python",
   "name": "python3"
  },
  "language_info": {
   "codemirror_mode": {
    "name": "ipython",
    "version": 3
   },
   "file_extension": ".py",
   "mimetype": "text/x-python",
   "name": "python",
   "nbconvert_exporter": "python",
   "pygments_lexer": "ipython3",
   "version": "3.8.8"
  }
 },
 "nbformat": 4,
 "nbformat_minor": 5
}
