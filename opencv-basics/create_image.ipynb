{
 "cells": [
  {
   "cell_type": "code",
   "execution_count": 72,
   "id": "3165f6c3",
   "metadata": {},
   "outputs": [],
   "source": [
    "import numpy as np"
   ]
  },
  {
   "cell_type": "code",
   "execution_count": 73,
   "id": "2e75b0a2",
   "metadata": {},
   "outputs": [],
   "source": [
    "photo = np.zeros((500,500,3))"
   ]
  },
  {
   "cell_type": "code",
   "execution_count": 74,
   "id": "6a9cc092",
   "metadata": {},
   "outputs": [
    {
     "data": {
      "text/plain": [
       "(500, 500, 3)"
      ]
     },
     "execution_count": 74,
     "metadata": {},
     "output_type": "execute_result"
    }
   ],
   "source": [
    "photo.shape"
   ]
  },
  {
   "cell_type": "code",
   "execution_count": 75,
   "id": "ae72a6e1",
   "metadata": {},
   "outputs": [],
   "source": [
    "# Head\n",
    "photo[50:150,200:300]=[0,255,0]\n",
    "#Neck\n",
    "photo[150:170,240:260] = [0,0,255]\n",
    "#Body\n",
    "photo[170:300,150:350] = [255,0,0]\n",
    "#Left Leg \n",
    "photo[300:450,195:205] = [0,255,0]\n",
    "#Right Leg \n",
    "photo[300:450,295:305] = [0,255,0]\n",
    "# Left Hand \n",
    "photo[170:180,50:150] = [0,0,255]\n",
    "photo[170:250,50:60] = [0,0,255]\n",
    "#Right Hand\n",
    "photo[170:180,350:450] = [0,0,255]\n",
    "photo[90:170,440:450] = [0,0,255]"
   ]
  },
  {
   "cell_type": "code",
   "execution_count": 76,
   "id": "c2f6894d",
   "metadata": {},
   "outputs": [],
   "source": [
    "import cv2"
   ]
  },
  {
   "cell_type": "code",
   "execution_count": 77,
   "id": "af23d4ea",
   "metadata": {},
   "outputs": [],
   "source": [
    "cv2.imshow(\"photo\",photo)\n",
    "cv2.waitKey()\n",
    "cv2.destroyAllWindows()"
   ]
  },
  {
   "cell_type": "code",
   "execution_count": 78,
   "id": "4826c6be",
   "metadata": {},
   "outputs": [],
   "source": [
    "mirror = np.zeros((500,500,3))\n",
    "# Head\n",
    "mirror[50:150,200:300]=[0,255,0]\n",
    "#Neck\n",
    "mirror[150:170,240:260] = [0,0,255]\n",
    "#Body\n",
    "mirror[170:300,150:350] = [255,0,0]\n",
    "#Left Leg \n",
    "mirror[300:450,195:205] = [0,255,0]\n",
    "#Right Leg \n",
    "mirror[300:450,295:305] = [0,255,0]\n",
    "# Left Hand \n",
    "mirror[170:180,50:150] = [0,0,255]\n",
    "mirror[90:170,50:60] = [0,0,255]\n",
    "#Right Hand\n",
    "mirror[170:180,350:450] = [0,0,255]\n",
    "mirror[170:250,440:450] = [0,0,255]"
   ]
  },
  {
   "cell_type": "code",
   "execution_count": 79,
   "id": "7879f827",
   "metadata": {},
   "outputs": [],
   "source": [
    "cv2.imshow(\"mirror\",mirror)\n",
    "cv2.waitKey()\n",
    "cv2.destroyAllWindows()"
   ]
  },
  {
   "cell_type": "code",
   "execution_count": 80,
   "id": "d75f4979",
   "metadata": {},
   "outputs": [],
   "source": [
    "# MAKE DANCE\n",
    "import time\n",
    "i=1\n",
    "while True: \n",
    "    if(i%2==0):\n",
    "        cv2.imshow(\"photo\",photo)\n",
    "    else:\n",
    "        cv2.imshow(\"photo\",mirror)\n",
    "    if cv2.waitKey(10)==13:\n",
    "        break\n",
    "    i=i+1\n",
    "    time.sleep(0.5)\n",
    "cv2.destroyAllWindows()"
   ]
  },
  {
   "cell_type": "code",
   "execution_count": null,
   "id": "7e025120",
   "metadata": {},
   "outputs": [],
   "source": []
  }
 ],
 "metadata": {
  "kernelspec": {
   "display_name": "Python 3",
   "language": "python",
   "name": "python3"
  },
  "language_info": {
   "codemirror_mode": {
    "name": "ipython",
    "version": 3
   },
   "file_extension": ".py",
   "mimetype": "text/x-python",
   "name": "python",
   "nbconvert_exporter": "python",
   "pygments_lexer": "ipython3",
   "version": "3.8.8"
  }
 },
 "nbformat": 4,
 "nbformat_minor": 5
}
