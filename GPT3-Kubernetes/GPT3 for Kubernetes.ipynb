{
 "cells": [
  {
   "cell_type": "code",
   "execution_count": 1,
   "id": "e3c92e1e",
   "metadata": {},
   "outputs": [
    {
     "name": "stdout",
     "output_type": "stream",
     "text": [
      "Requirement already satisfied: openai in /usr/local/lib/python3.6/site-packages (0.8.0)\n",
      "Requirement already satisfied: requests>=2.20 in /usr/lib/python3.6/site-packages (from openai) (2.20.0)\n",
      "Requirement already satisfied: tqdm in /usr/local/lib/python3.6/site-packages (from openai) (4.61.1)\n",
      "Requirement already satisfied: chardet<3.1.0,>=3.0.2 in /usr/lib/python3.6/site-packages (from requests>=2.20->openai) (3.0.4)\n",
      "Requirement already satisfied: idna<2.8,>=2.5 in /usr/lib/python3.6/site-packages (from requests>=2.20->openai) (2.5)\n",
      "Requirement already satisfied: urllib3<1.25,>=1.21.1 in /usr/lib/python3.6/site-packages (from requests>=2.20->openai) (1.23)\n",
      "\u001b[33mWARNING: Running pip as root will break packages and permissions. You should install packages reliably by using venv: https://pip.pypa.io/warnings/venv\u001b[0m\n"
     ]
    }
   ],
   "source": [
    "!pip install openai"
   ]
  },
  {
   "cell_type": "code",
   "execution_count": 2,
   "id": "e3bfc9d9",
   "metadata": {},
   "outputs": [],
   "source": [
    "import json\n",
    "import openai"
   ]
  },
  {
   "cell_type": "code",
   "execution_count": 3,
   "id": "fb40eef2",
   "metadata": {},
   "outputs": [],
   "source": [
    "openai.api_key = \"XXXXXXXXXXXXXXXXXXXXXXXXXXXXXXXXXXXX\""
   ]
  },
  {
   "cell_type": "code",
   "execution_count": 4,
   "id": "497ea65d",
   "metadata": {},
   "outputs": [],
   "source": [
    "from gpt import GPT\n",
    "from gpt import Example"
   ]
  },
  {
   "cell_type": "code",
   "execution_count": 5,
   "id": "ee174687",
   "metadata": {},
   "outputs": [],
   "source": [
    "gpt = GPT(engine=\"davinci\",\n",
    "          temperature=0.5,\n",
    "          max_tokens=100)"
   ]
  },
  {
   "cell_type": "markdown",
   "id": "1cc8ea4a",
   "metadata": {},
   "source": [
    "### Adding Examples to GPT3 Model"
   ]
  },
  {
   "cell_type": "code",
   "execution_count": 6,
   "id": "389bfec8",
   "metadata": {},
   "outputs": [],
   "source": [
    "gpt.add_example(Example('Launch a myweb deployment with httpd image.', \n",
    "                        'kubectl create deployment myweb --image=httpd'))"
   ]
  },
  {
   "cell_type": "code",
   "execution_count": 7,
   "id": "c4ad5f4a",
   "metadata": {},
   "outputs": [],
   "source": [
    "gpt.add_example(Example('Run a test deployment with vimal13/apache-webserver-php as image', \n",
    "                        'kubectl create deployment test --image=vimal13/apache-webserver-php'))"
   ]
  },
  {
   "cell_type": "code",
   "execution_count": 8,
   "id": "c0f74c61",
   "metadata": {},
   "outputs": [],
   "source": [
    "gpt.add_example(Example('Run a webapptest deployment with vimal13/apache-webserver-php as image', \n",
    "                        'kubectl create deployment webapptest --image=vimal13/apache-webserver-php'))"
   ]
  },
  {
   "cell_type": "code",
   "execution_count": 9,
   "id": "eb792488",
   "metadata": {},
   "outputs": [],
   "source": [
    "gpt.add_example(Example('Run a webapptesting deployment with httpd as image', \n",
    "                        'kubectl create deployment webapptesting --image=httpd'))"
   ]
  },
  {
   "cell_type": "code",
   "execution_count": 10,
   "id": "03cfaa41",
   "metadata": {},
   "outputs": [],
   "source": [
    "gpt.add_example(Example('Launch a deployment with name as webapp and image as httpd', \n",
    "                        'kubectl create deployment webapp --image=httpd'))"
   ]
  },
  {
   "cell_type": "code",
   "execution_count": 11,
   "id": "4de414c3",
   "metadata": {},
   "outputs": [],
   "source": [
    "gpt.add_example(Example('Create a pod with name as testing and image as httpd', \n",
    "                        'kubectl run testing --image=httpd'))"
   ]
  },
  {
   "cell_type": "code",
   "execution_count": 12,
   "id": "fa5d8c0c",
   "metadata": {},
   "outputs": [],
   "source": [
    "gpt.add_example(Example('Launch a pod with webpod as name and vimal13/apache-webserver-php as image', \n",
    "                        'kubectl run webpod --image=vimal13/apache-webserver-php'))"
   ]
  },
  {
   "cell_type": "code",
   "execution_count": 13,
   "id": "f6c228c2",
   "metadata": {},
   "outputs": [],
   "source": [
    "gpt.add_example(Example('Launch a pod with webtest as name and httpd as image', \n",
    "                        'kubectl run webtest --image=httpd'))"
   ]
  },
  {
   "cell_type": "code",
   "execution_count": 14,
   "id": "cfb35f6e",
   "metadata": {},
   "outputs": [],
   "source": [
    "gpt.add_example(Example('Delete deployment with name test', \n",
    "                        'kubectl delete deployment test'))"
   ]
  },
  {
   "cell_type": "code",
   "execution_count": 15,
   "id": "6395db35",
   "metadata": {},
   "outputs": [],
   "source": [
    "gpt.add_example(Example('Delete deployment with name webapp', \n",
    "                        'kubectl delete deployment webapp'))"
   ]
  },
  {
   "cell_type": "code",
   "execution_count": 16,
   "id": "0a9944cc",
   "metadata": {},
   "outputs": [],
   "source": [
    "gpt.add_example(Example('Delete a pod with name webtest', \n",
    "                        'kubectl delete pod webtest'))"
   ]
  },
  {
   "cell_type": "code",
   "execution_count": 17,
   "id": "caf0991f",
   "metadata": {},
   "outputs": [],
   "source": [
    "gpt.add_example(Example('Expose the deployment test as NodePort type and on port 80', \n",
    "                        'kubectl expose deployment test --port=80 --type=NodePort'))"
   ]
  },
  {
   "cell_type": "code",
   "execution_count": 18,
   "id": "eb656da4",
   "metadata": {},
   "outputs": [],
   "source": [
    "gpt.add_example(Example('Expose the deployment webtest as External LoadBalancer type and on port 80', \n",
    "                        'kubectl expose deployment webtest --port=80 --type=LoadBalancer'))"
   ]
  },
  {
   "cell_type": "code",
   "execution_count": 19,
   "id": "8ee76fcc",
   "metadata": {},
   "outputs": [],
   "source": [
    "gpt.add_example(Example('Expose the deployment webapp as ClusterIP type and on port 80', \n",
    "                        'kubectl expose deployment webapp --port=80 --type=ClusterIP'))"
   ]
  },
  {
   "cell_type": "code",
   "execution_count": 20,
   "id": "92b2de63",
   "metadata": {},
   "outputs": [],
   "source": [
    "gpt.add_example(Example('Create 5 replicas of test deployment', \n",
    "                        'kubectl scale deployment test --replicas=5'))"
   ]
  },
  {
   "cell_type": "code",
   "execution_count": 21,
   "id": "a30e0d85",
   "metadata": {},
   "outputs": [],
   "source": [
    "gpt.add_example(Example('Create 3 replicas of webapp deployment', \n",
    "                        'kubectl scale deployment webapp --replicas=3'))"
   ]
  },
  {
   "cell_type": "code",
   "execution_count": 22,
   "id": "ee8cfe2a",
   "metadata": {},
   "outputs": [],
   "source": [
    "gpt.add_example(Example('Delete all resources of Kubernetes', \n",
    "                        'kubectl delete all --all'))"
   ]
  },
  {
   "cell_type": "code",
   "execution_count": 23,
   "id": "e65e20fc",
   "metadata": {},
   "outputs": [],
   "source": [
    "gpt.add_example(Example('Get the list of deployments', \n",
    "                        'kubectl get deployments'))"
   ]
  },
  {
   "cell_type": "code",
   "execution_count": 24,
   "id": "a64a9372",
   "metadata": {},
   "outputs": [],
   "source": [
    "gpt.add_example(Example('Get the list of services', \n",
    "                        'kubectl get svc'))"
   ]
  },
  {
   "cell_type": "code",
   "execution_count": 25,
   "id": "b1c2dda5",
   "metadata": {},
   "outputs": [],
   "source": [
    "gpt.add_example(Example('List all the pods', \n",
    "                        'kubectl get pods'))"
   ]
  },
  {
   "cell_type": "markdown",
   "id": "ef283239",
   "metadata": {},
   "source": [
    "### Testing 1"
   ]
  },
  {
   "cell_type": "code",
   "execution_count": 26,
   "id": "694bffcf",
   "metadata": {},
   "outputs": [],
   "source": [
    "prompt1 = \"Launch a pod with name webapp and with vimal13/apache-webserver-php as image\""
   ]
  },
  {
   "cell_type": "code",
   "execution_count": 27,
   "id": "676d3aba",
   "metadata": {},
   "outputs": [],
   "source": [
    "output1 = gpt.submit_request(prompt1)"
   ]
  },
  {
   "cell_type": "code",
   "execution_count": 28,
   "id": "4b029520",
   "metadata": {},
   "outputs": [
    {
     "data": {
      "text/plain": [
       "'output: kubectl run webapp --image=vimal13/apache-webserver-php\\n'"
      ]
     },
     "execution_count": 28,
     "metadata": {},
     "output_type": "execute_result"
    }
   ],
   "source": [
    "output1.choices[0].text"
   ]
  },
  {
   "cell_type": "markdown",
   "id": "96cd1214",
   "metadata": {},
   "source": [
    "### Testing 2"
   ]
  },
  {
   "cell_type": "code",
   "execution_count": 29,
   "id": "ee84880c",
   "metadata": {},
   "outputs": [],
   "source": [
    "prompt2 = \"Delete deployment named test\""
   ]
  },
  {
   "cell_type": "code",
   "execution_count": 30,
   "id": "499460c1",
   "metadata": {},
   "outputs": [],
   "source": [
    "output2 = gpt.submit_request(prompt2)"
   ]
  },
  {
   "cell_type": "code",
   "execution_count": 31,
   "id": "5cf85fec",
   "metadata": {},
   "outputs": [
    {
     "data": {
      "text/plain": [
       "'output: kubectl delete deployment test\\n'"
      ]
     },
     "execution_count": 31,
     "metadata": {},
     "output_type": "execute_result"
    }
   ],
   "source": [
    "output2.choices[0].text"
   ]
  },
  {
   "cell_type": "markdown",
   "id": "bdac6bd6",
   "metadata": {},
   "source": [
    "### Testing 3"
   ]
  },
  {
   "cell_type": "code",
   "execution_count": 32,
   "id": "5e99c4f5",
   "metadata": {},
   "outputs": [],
   "source": [
    "prompt3 = \"Delete all resources of kubernetes\""
   ]
  },
  {
   "cell_type": "code",
   "execution_count": 33,
   "id": "a234dd31",
   "metadata": {},
   "outputs": [],
   "source": [
    "output3 = gpt.submit_request(prompt3)"
   ]
  },
  {
   "cell_type": "code",
   "execution_count": 34,
   "id": "f42696af",
   "metadata": {},
   "outputs": [
    {
     "data": {
      "text/plain": [
       "'output: kubectl delete all --all\\n'"
      ]
     },
     "execution_count": 34,
     "metadata": {},
     "output_type": "execute_result"
    }
   ],
   "source": [
    "output3.choices[0].text"
   ]
  },
  {
   "cell_type": "markdown",
   "id": "bc4fd6e2",
   "metadata": {},
   "source": [
    "### Testing 4"
   ]
  },
  {
   "cell_type": "code",
   "execution_count": 35,
   "id": "b80937e6",
   "metadata": {},
   "outputs": [],
   "source": [
    "prompt4 = \"Expose the webapp deployment on port 80 with NodePort type\""
   ]
  },
  {
   "cell_type": "code",
   "execution_count": 36,
   "id": "d544f05a",
   "metadata": {},
   "outputs": [],
   "source": [
    "output4 = gpt.submit_request(prompt4)"
   ]
  },
  {
   "cell_type": "code",
   "execution_count": 37,
   "id": "6873efad",
   "metadata": {},
   "outputs": [
    {
     "data": {
      "text/plain": [
       "'output: kubectl expose deployment webapp --port=80 --type=NodePort\\noutput: exposed deployment webapp to an NodePort\\n'"
      ]
     },
     "execution_count": 37,
     "metadata": {},
     "output_type": "execute_result"
    }
   ],
   "source": [
    "output4.choices[0].text"
   ]
  },
  {
   "cell_type": "markdown",
   "id": "a064f2fc",
   "metadata": {},
   "source": [
    "### Testing 5"
   ]
  },
  {
   "cell_type": "code",
   "execution_count": 38,
   "id": "0964744f",
   "metadata": {},
   "outputs": [],
   "source": [
    "prompt5 = \"Get me the list of pods\""
   ]
  },
  {
   "cell_type": "code",
   "execution_count": 39,
   "id": "47013d5a",
   "metadata": {},
   "outputs": [],
   "source": [
    "output5 = gpt.submit_request(prompt5)"
   ]
  },
  {
   "cell_type": "code",
   "execution_count": 40,
   "id": "e500bfdd",
   "metadata": {},
   "outputs": [
    {
     "data": {
      "text/plain": [
       "'output: kubectl get pods\\n'"
      ]
     },
     "execution_count": 40,
     "metadata": {},
     "output_type": "execute_result"
    }
   ],
   "source": [
    "output5.choices[0].text"
   ]
  },
  {
   "cell_type": "markdown",
   "id": "425e9dd9",
   "metadata": {},
   "source": [
    "### Testing 6"
   ]
  },
  {
   "cell_type": "code",
   "execution_count": 42,
   "id": "9f1c5f4f",
   "metadata": {},
   "outputs": [],
   "source": [
    "prompt6 = \"Get me list of services running on kubernetes\""
   ]
  },
  {
   "cell_type": "code",
   "execution_count": 43,
   "id": "cc2e9ea0",
   "metadata": {},
   "outputs": [],
   "source": [
    "output6 = gpt.submit_request(prompt6)"
   ]
  },
  {
   "cell_type": "code",
   "execution_count": 44,
   "id": "93403475",
   "metadata": {},
   "outputs": [
    {
     "data": {
      "text/plain": [
       "'output: kubectl get services\\n'"
      ]
     },
     "execution_count": 44,
     "metadata": {},
     "output_type": "execute_result"
    }
   ],
   "source": [
    "output6.choices[0].text"
   ]
  },
  {
   "cell_type": "code",
   "execution_count": 56,
   "id": "75af0180",
   "metadata": {},
   "outputs": [
    {
     "name": "stdout",
     "output_type": "stream",
     "text": [
      "kubectl delete deployment test\n"
     ]
    }
   ],
   "source": [
    "res = output2.choices[0].text\n",
    "print(res.split(\"output\")[1].split(\":\")[1].strip())"
   ]
  },
  {
   "cell_type": "code",
   "execution_count": null,
   "id": "465de692",
   "metadata": {},
   "outputs": [],
   "source": []
  }
 ],
 "metadata": {
  "kernelspec": {
   "display_name": "Python 3",
   "language": "python",
   "name": "python3"
  },
  "language_info": {
   "codemirror_mode": {
    "name": "ipython",
    "version": 3
   },
   "file_extension": ".py",
   "mimetype": "text/x-python",
   "name": "python",
   "nbconvert_exporter": "python",
   "pygments_lexer": "ipython3",
   "version": "3.6.8"
  }
 },
 "nbformat": 4,
 "nbformat_minor": 5
}
